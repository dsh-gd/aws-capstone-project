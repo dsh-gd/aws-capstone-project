{
 "cells": [
  {
   "cell_type": "code",
   "execution_count": 1,
   "id": "3626246c-fbea-40d5-957d-eddcf97cfacf",
   "metadata": {},
   "outputs": [],
   "source": [
    "from pyspark.sql import SparkSession\n",
    "\n",
    "spark = SparkSession \\\n",
    "    .builder \\\n",
    "    .appName(\"experiments\") \\\n",
    "    .getOrCreate()"
   ]
  },
  {
   "cell_type": "markdown",
   "id": "3723bcb2-fce6-4200-83f2-641e14a96631",
   "metadata": {
    "tags": []
   },
   "source": [
    "## Load data (sample)"
   ]
  },
  {
   "cell_type": "code",
   "execution_count": 2,
   "id": "15453c39-c685-4c82-bea9-05a84cb5f365",
   "metadata": {},
   "outputs": [],
   "source": [
    "from pathlib import Path\n",
    "path = Path(\"../data\")"
   ]
  },
  {
   "cell_type": "code",
   "execution_count": 3,
   "id": "2b5c8710-753e-482e-b9b6-21217d9797b8",
   "metadata": {},
   "outputs": [
    {
     "data": {
      "text/plain": [
       "43"
      ]
     },
     "execution_count": 3,
     "metadata": {},
     "output_type": "execute_result"
    }
   ],
   "source": [
    "items_paths = []\n",
    "for p in path.glob(\"items/**/*.json\"):\n",
    "    if not p.stem.endswith(\"_available\"):\n",
    "        items_paths.append(str(p))\n",
    "\n",
    "len(items_paths)"
   ]
  },
  {
   "cell_type": "code",
   "execution_count": 4,
   "id": "aaa5644a-9f16-46a7-931e-fbc2d3d6b5c1",
   "metadata": {},
   "outputs": [],
   "source": [
    "items = spark.read.json(items_paths)"
   ]
  },
  {
   "cell_type": "code",
   "execution_count": 5,
   "id": "5470a227-dfbf-49eb-8707-3d23999f8a99",
   "metadata": {},
   "outputs": [
    {
     "data": {
      "text/plain": [
       "14200"
      ]
     },
     "execution_count": 5,
     "metadata": {},
     "output_type": "execute_result"
    }
   ],
   "source": [
    "items.count()"
   ]
  },
  {
   "cell_type": "code",
   "execution_count": 6,
   "id": "41f091ed-876a-47ea-956a-f9014f72a6c1",
   "metadata": {},
   "outputs": [
    {
     "name": "stdout",
     "output_type": "stream",
     "text": [
      "+--------------------+--------+--------------------+--------------------+-----+-----------+\n",
      "|                desc|discount|                  id|                name|price|       type|\n",
      "+--------------------+--------+--------------------+--------------------+-----+-----------+\n",
      "|Young development...|    61.0|f667cd19-b954-4de...|              Degree| 1.03|       game|\n",
      "|Son age indicate ...|     0.0|2f217373-be7c-49c...|Better security r...| 0.05|     office|\n",
      "|Practice although...|    11.0|00970c97-f2a2-4b6...|              Itself|14.36|    fitness|\n",
      "|American his meet...|     0.0|c8cecdc1-7a96-465...|Result young qual...| 0.16|    fitness|\n",
      "|Operation still c...|    55.0|de3da53f-0527-4a8...|  Agree many compare| 2.76|       game|\n",
      "|Almost guy home b...|    12.0|391f21a5-4c36-417...|Whole responsibil...| 0.83|    fitness|\n",
      "|Research which ba...|     5.0|7cbd51cf-2117-432...|               Owner| 0.51|    fitness|\n",
      "|Sound recognize c...|    73.0|2ed44006-6f39-4ea...|              Social| 7.66|       game|\n",
      "|Environment sing ...|     0.0|4464ddbc-60a2-42a...|              During|11.55|    fitness|\n",
      "|Pressure positive...|     0.0|aeeb36f9-0df5-492...|             Respond|15.72|     office|\n",
      "|Finally responsib...|     0.0|a03e7bf8-ab80-4b9...|           Newspaper| 7.04|    fitness|\n",
      "|Member old no worry.|    11.0|34511cfd-46f0-403...|Responsibility da...|  0.2|    fitness|\n",
      "|Film wide could a...|    11.0|17e01ef8-3a43-497...|               Small|26.04|     office|\n",
      "|Explain hour nece...|    33.0|6c663615-2ffe-4b5...|                Film| 0.14|       game|\n",
      "|Number why set ri...|    20.0|df383eb3-280b-4c4...|       Add hand talk| 7.39|photography|\n",
      "|Future education ...|     4.0|d3f7553b-5161-4fb...|        Let employee| 6.73|     office|\n",
      "|Space mother styl...|     1.0|968d8bff-7c89-4c8...|             Medical| 0.73|       game|\n",
      "|Staff authority m...|     0.0|e5c679b0-40df-460...|         Group other|12.28|photography|\n",
      "|Sometimes month p...|     1.0|30f3ca15-fa18-4d8...|               Front| 1.78|    fitness|\n",
      "|Play player indus...|     0.0|205536af-4c0b-407...|              Season| 0.36|       game|\n",
      "+--------------------+--------+--------------------+--------------------+-----+-----------+\n",
      "only showing top 20 rows\n",
      "\n"
     ]
    }
   ],
   "source": [
    "items.show()"
   ]
  },
  {
   "cell_type": "code",
   "execution_count": 7,
   "id": "dfff219a-5799-4341-a909-6e414084760c",
   "metadata": {},
   "outputs": [
    {
     "data": {
      "text/plain": [
       "13"
      ]
     },
     "execution_count": 7,
     "metadata": {},
     "output_type": "execute_result"
    }
   ],
   "source": [
    "user_actions_paths = [str(p) for p in path.glob(\"user_actions/**/*.json\")]\n",
    "\n",
    "len(user_actions_paths)"
   ]
  },
  {
   "cell_type": "code",
   "execution_count": 8,
   "id": "08cfa445-b4db-49b8-bcba-1eeaec89022a",
   "metadata": {},
   "outputs": [],
   "source": [
    "user_actions = spark.read.json(user_actions_paths)"
   ]
  },
  {
   "cell_type": "code",
   "execution_count": 9,
   "id": "242ddae8-42bc-444c-b36f-734bc3f28230",
   "metadata": {},
   "outputs": [
    {
     "data": {
      "text/plain": [
       "195128"
      ]
     },
     "execution_count": 9,
     "metadata": {},
     "output_type": "execute_result"
    }
   ],
   "source": [
    "user_actions.count()"
   ]
  },
  {
   "cell_type": "code",
   "execution_count": 10,
   "id": "e295b86e-3b92-43e6-9626-8b8c29607e9f",
   "metadata": {},
   "outputs": [
    {
     "name": "stdout",
     "output_type": "stream",
     "text": [
      "+--------------------+----------------+-------------------+--------------------+-----------+--------------------+\n",
      "|       action_result|     action_type|         event_time|          session_id|status_code|             user_id|\n",
      "+--------------------+----------------+-------------------+--------------------+-----------+--------------------+\n",
      "|User a2f3af6d-419...|          log_in|2022-02-15 21:37:19|e415c2f4-bc65-490...|        200|a2f3af6d-4198-4f3...|\n",
      "|User a2f3af6d-419...|      open_store|2022-02-15 21:51:00|e415c2f4-bc65-490...|        200|a2f3af6d-4198-4f3...|\n",
      "|                  []|       view_cart|2022-02-15 21:54:06|e415c2f4-bc65-490...|        204|a2f3af6d-4198-4f3...|\n",
      "|      Cart is empty.|remove_from_cart|2022-02-15 22:03:11|e415c2f4-bc65-490...|        405|a2f3af6d-4198-4f3...|\n",
      "|User a2f3af6d-419...|      open_store|2022-02-15 22:10:19|e415c2f4-bc65-490...|        100|a2f3af6d-4198-4f3...|\n",
      "|Item ea362642-a33...|     search_item|2022-02-15 22:14:39|e415c2f4-bc65-490...|        204|a2f3af6d-4198-4f3...|\n",
      "|User a2f3af6d-419...|      open_store|2022-02-15 22:23:22|e415c2f4-bc65-490...|        100|a2f3af6d-4198-4f3...|\n",
      "|Item a0a27dd0-8f1...|     search_item|2022-02-15 22:32:42|e415c2f4-bc65-490...|        204|a2f3af6d-4198-4f3...|\n",
      "|User a2f3af6d-419...|      open_store|2022-02-15 22:43:03|e415c2f4-bc65-490...|        100|a2f3af6d-4198-4f3...|\n",
      "|Item 609e8bca-0c4...|     search_item|2022-02-15 22:50:29|e415c2f4-bc65-490...|        200|a2f3af6d-4198-4f3...|\n",
      "|Add item 609e8bca...|     add_to_cart|2022-02-15 23:04:34|e415c2f4-bc65-490...|        200|a2f3af6d-4198-4f3...|\n",
      "|['609e8bca-0c4c-4...|       view_cart|2022-02-15 23:08:08|e415c2f4-bc65-490...|        200|a2f3af6d-4198-4f3...|\n",
      "|User a2f3af6d-419...|      open_store|2022-02-15 23:21:21|e415c2f4-bc65-490...|        100|a2f3af6d-4198-4f3...|\n",
      "|     Item not found.|     search_item|2022-02-15 23:35:35|e415c2f4-bc65-490...|        404|a2f3af6d-4198-4f3...|\n",
      "|User a2f3af6d-419...|      open_store|2022-02-15 23:46:18|e415c2f4-bc65-490...|        100|a2f3af6d-4198-4f3...|\n",
      "|Item cfbef457-03e...|     search_item|2022-02-15 23:59:01|e415c2f4-bc65-490...|        204|a2f3af6d-4198-4f3...|\n",
      "|User a2f3af6d-419...|      open_store|2022-02-16 00:09:17|e415c2f4-bc65-490...|        100|a2f3af6d-4198-4f3...|\n",
      "|Item a5d6d274-cd5...|     search_item|2022-02-16 00:12:13|e415c2f4-bc65-490...|        204|a2f3af6d-4198-4f3...|\n",
      "|['609e8bca-0c4c-4...|       view_cart|2022-02-16 00:22:29|e415c2f4-bc65-490...|        200|a2f3af6d-4198-4f3...|\n",
      "|User a2f3af6d-419...|      open_store|2022-02-16 00:26:51|e415c2f4-bc65-490...|        100|a2f3af6d-4198-4f3...|\n",
      "+--------------------+----------------+-------------------+--------------------+-----------+--------------------+\n",
      "only showing top 20 rows\n",
      "\n"
     ]
    }
   ],
   "source": [
    "user_actions.show()"
   ]
  },
  {
   "cell_type": "markdown",
   "id": "07e445ea-07e6-4d0a-8554-018c9ddd425e",
   "metadata": {
    "tags": []
   },
   "source": [
    "## Create Purchase dataset"
   ]
  },
  {
   "cell_type": "code",
   "execution_count": 11,
   "id": "0252449f-de18-4e5c-ad6c-a1f26a2cad84",
   "metadata": {},
   "outputs": [],
   "source": [
    "from pyspark.sql import Window\n",
    "import pyspark.sql.functions as F\n",
    "\n",
    "w = Window.partitionBy(\"session_id\").orderBy(\"event_time\")\n",
    "condition = (F.lead(\"action_type\", 1).over(w) == \"pay\") & (F.lead(\"status_code\", 1).over(w) == 200)"
   ]
  },
  {
   "cell_type": "code",
   "execution_count": 12,
   "id": "63199652-1927-4439-b74a-bd9a5ac07ee6",
   "metadata": {},
   "outputs": [],
   "source": [
    "successful_payments = user_actions \\\n",
    "    .where(F.col(\"action_type\").isin(\"view_cart\", \"pay\")) \\\n",
    "    .withColumn(\"payment_time\", F.when(condition, F.lead(\"event_time\", 1).over(w))) \\\n",
    "    .where(F.col(\"payment_time\").isNotNull())"
   ]
  },
  {
   "cell_type": "code",
   "execution_count": 13,
   "id": "11346070-177d-4610-a488-8823be898626",
   "metadata": {},
   "outputs": [
    {
     "name": "stdout",
     "output_type": "stream",
     "text": [
      "+--------------------+-----------+-------------------+--------------------+-----------+--------------------+-------------------+\n",
      "|       action_result|action_type|         event_time|          session_id|status_code|             user_id|       payment_time|\n",
      "+--------------------+-----------+-------------------+--------------------+-----------+--------------------+-------------------+\n",
      "|['dfcad75d-df4c-4...|  view_cart|2022-02-15 21:35:19|0015dca6-e825-49d...|        200|1330243f-19da-410...|2022-02-15 21:41:23|\n",
      "|['5d2629ec-ff58-4...|  view_cart|2022-02-15 21:33:43|0027de64-9141-468...|        200|833a53b1-7882-4ad...|2022-02-15 21:38:51|\n",
      "|['17eb311a-e0be-4...|  view_cart|2022-02-16 12:19:56|005c1d09-82f4-4b0...|        200|1ed21a96-93cd-413...|2022-02-16 12:27:07|\n",
      "|['1306934e-0290-4...|  view_cart|2022-02-16 04:43:41|00623a00-ff6a-40a...|        200|33e8b30d-7032-4cf...|2022-02-16 04:57:28|\n",
      "|['2b5d6816-368f-4...|  view_cart|2022-02-15 21:49:35|00665a96-ef2b-4d5...|        200|baad42cd-523b-4c8...|2022-02-15 22:01:25|\n",
      "|['12f9deac-3260-4...|  view_cart|2022-02-16 13:21:29|0078712e-ad26-497...|        200|cd25d012-15ba-420...|2022-02-16 13:31:46|\n",
      "|['095834a7-3e9f-4...|  view_cart|2022-02-15 23:15:02|009de783-d808-4e6...|        200|3e9ebfd9-31a6-48d...|2022-02-15 23:30:33|\n",
      "|['85cb64c3-1b22-4...|  view_cart|2022-02-15 22:41:11|00aed027-7d56-4c1...|        200|3acc1f03-5b14-46f...|2022-02-15 22:43:19|\n",
      "|['b2a82789-1d19-4...|  view_cart|2022-02-15 22:02:03|00d6581f-399f-4e1...|        200|5493f403-bbc8-449...|2022-02-15 22:15:00|\n",
      "|['fa1ecc41-bfb0-4...|  view_cart|2022-02-16 10:01:26|00e6a40c-c561-49d...|        200|ab172e8c-452d-420...|2022-02-16 10:12:32|\n",
      "|['dcb1fb11-33c4-4...|  view_cart|2022-02-16 12:14:05|00ee42b9-9103-41d...|        200|7937ae45-d741-4da...|2022-02-16 12:26:38|\n",
      "|['1a6456fb-3b3e-4...|  view_cart|2022-02-15 20:28:24|00efe752-c269-40e...|        200|f031c94b-b66e-4d0...|2022-02-15 20:42:05|\n",
      "|['4670e859-0b07-4...|  view_cart|2022-02-16 14:07:05|011efb28-3380-488...|        200|615e0436-9626-43d...|2022-02-16 14:12:19|\n",
      "|['a3019471-df28-4...|  view_cart|2022-02-16 00:18:20|01203c0d-8073-4ca...|        200|304e9bc4-a4cc-432...|2022-02-16 00:30:00|\n",
      "|['f1c8e40f-451d-4...|  view_cart|2022-02-15 21:16:28|01274da7-9e31-43c...|        200|536c19f5-2b41-4e0...|2022-02-15 21:18:06|\n",
      "|['9b2eb9ac-652e-4...|  view_cart|2022-02-15 21:39:39|012b760f-e97d-49d...|        200|d2950189-3455-497...|2022-02-15 21:48:19|\n",
      "|['a5eab269-7ed2-4...|  view_cart|2022-02-15 23:13:30|01373c3a-75cb-41f...|        200|37824150-0b14-483...|2022-02-15 23:25:28|\n",
      "|['f87046ae-765a-4...|  view_cart|2022-02-16 10:29:26|013cbc99-31e7-480...|        200|c782650b-3046-478...|2022-02-16 10:44:49|\n",
      "|['7e743114-54b1-4...|  view_cart|2022-02-15 22:57:00|01668e73-fbbf-421...|        200|d330c693-ecb9-44e...|2022-02-15 23:11:54|\n",
      "|['1859192f-76cf-4...|  view_cart|2022-02-16 00:11:20|0183513e-7348-43c...|        200|0d88cc33-5758-41c...|2022-02-16 00:18:07|\n",
      "+--------------------+-----------+-------------------+--------------------+-----------+--------------------+-------------------+\n",
      "only showing top 20 rows\n",
      "\n"
     ]
    }
   ],
   "source": [
    "successful_payments.show()"
   ]
  },
  {
   "cell_type": "code",
   "execution_count": 14,
   "id": "5d0702ac-12c9-484e-b10e-1552a09256d9",
   "metadata": {},
   "outputs": [
    {
     "data": {
      "text/plain": [
       "2.788700000201061"
      ]
     },
     "execution_count": 14,
     "metadata": {},
     "output_type": "execute_result"
    }
   ],
   "source": [
    "total_price = items \\\n",
    "    .select(F.expr(\"price - (price * discount / 100)\") \\\n",
    "            .alias(\"without_round\"),\n",
    "            F.round(F.expr(\"price - (price * discount / 100)\"), 2) \\\n",
    "            .alias(\"with_round\")\n",
    "           ) \\\n",
    "    .agg({\"without_round\": \"sum\", \"with_round\": \"sum\"}) \\\n",
    "    .collect()[0]\n",
    "\n",
    "# Difference between the rounded and non-rounded total prices\n",
    "total_price[0] - total_price[1]"
   ]
  },
  {
   "cell_type": "code",
   "execution_count": 15,
   "id": "5a06a204-5a75-4f4f-8754-cbcbd917ff57",
   "metadata": {},
   "outputs": [],
   "source": [
    "items_prices = items \\\n",
    "    .select(F.col(\"id\").alias(\"product_id\"), \"price\",\n",
    "            F.round(F.expr(\"price - (price * discount / 100)\"), 2) \\\n",
    "            .alias(\"discount_price\")\n",
    "           )"
   ]
  },
  {
   "cell_type": "code",
   "execution_count": 16,
   "id": "f836bf9b-6e25-41e0-845f-e0403438c6de",
   "metadata": {},
   "outputs": [
    {
     "name": "stdout",
     "output_type": "stream",
     "text": [
      "+--------------------+-----+--------------+\n",
      "|          product_id|price|discount_price|\n",
      "+--------------------+-----+--------------+\n",
      "|f667cd19-b954-4de...| 1.03|           0.4|\n",
      "|2f217373-be7c-49c...| 0.05|          0.05|\n",
      "|00970c97-f2a2-4b6...|14.36|         12.78|\n",
      "|c8cecdc1-7a96-465...| 0.16|          0.16|\n",
      "|de3da53f-0527-4a8...| 2.76|          1.24|\n",
      "|391f21a5-4c36-417...| 0.83|          0.73|\n",
      "|7cbd51cf-2117-432...| 0.51|          0.48|\n",
      "|2ed44006-6f39-4ea...| 7.66|          2.07|\n",
      "|4464ddbc-60a2-42a...|11.55|         11.55|\n",
      "|aeeb36f9-0df5-492...|15.72|         15.72|\n",
      "|a03e7bf8-ab80-4b9...| 7.04|          7.04|\n",
      "|34511cfd-46f0-403...|  0.2|          0.18|\n",
      "|17e01ef8-3a43-497...|26.04|         23.18|\n",
      "|6c663615-2ffe-4b5...| 0.14|          0.09|\n",
      "|df383eb3-280b-4c4...| 7.39|          5.91|\n",
      "|d3f7553b-5161-4fb...| 6.73|          6.46|\n",
      "|968d8bff-7c89-4c8...| 0.73|          0.72|\n",
      "|e5c679b0-40df-460...|12.28|         12.28|\n",
      "|30f3ca15-fa18-4d8...| 1.78|          1.76|\n",
      "|205536af-4c0b-407...| 0.36|          0.36|\n",
      "+--------------------+-----+--------------+\n",
      "only showing top 20 rows\n",
      "\n"
     ]
    }
   ],
   "source": [
    "items_prices.show()"
   ]
  },
  {
   "cell_type": "code",
   "execution_count": 17,
   "id": "3bb502ab-0bcc-43d8-8bb1-bfe44f22fd1d",
   "metadata": {},
   "outputs": [
    {
     "name": "stdout",
     "output_type": "stream",
     "text": [
      "+--------------------+-------------------+--------------------+--------------------+\n",
      "|         purchase_id|         event_time|             user_id|     purchased_items|\n",
      "+--------------------+-------------------+--------------------+--------------------+\n",
      "|0015dca6-e825-49d...|2022-02-15 21:41:23|1330243f-19da-410...|[dfcad75d-df4c-41...|\n",
      "|0027de64-9141-468...|2022-02-15 21:38:51|833a53b1-7882-4ad...|[5d2629ec-ff58-48...|\n",
      "|005c1d09-82f4-4b0...|2022-02-16 12:27:07|1ed21a96-93cd-413...|[17eb311a-e0be-44...|\n",
      "+--------------------+-------------------+--------------------+--------------------+\n",
      "only showing top 3 rows\n",
      "\n"
     ]
    }
   ],
   "source": [
    "purchases_tmp = successful_payments \\\n",
    "    .select(F.col(\"session_id\").alias(\"purchase_id\"),\n",
    "            F.col(\"payment_time\").alias(\"event_time\"),\n",
    "            \"user_id\",\n",
    "            F.from_json(\"action_result\", \"ARRAY<STRING>\").alias(\"purchased_items\")\n",
    "           )\n",
    "\n",
    "purchases_tmp.show(3)"
   ]
  },
  {
   "cell_type": "code",
   "execution_count": 18,
   "id": "801fb372-9704-4078-942f-ce935d502218",
   "metadata": {},
   "outputs": [],
   "source": [
    "# TODO: .isNotNull() temporary; check whether user_id has a discount \n",
    "\n",
    "purchases_cost = purchases_tmp \\\n",
    "    .select(\"purchase_id\", \"user_id\", F.explode(\"purchased_items\").alias(\"product_id\")) \\\n",
    "    .join(items_prices, on=\"product_id\") \\\n",
    "    .groupBy(\"purchase_id\", \"user_id\") \\\n",
    "    .agg(\n",
    "        F.round(F.when(F.col(\"user_id\").isNotNull(), F.sum(\"price\")) \\\n",
    "                .otherwise(F.sum(\"discount_price\")), 2)\n",
    "        .alias(\"amount_paid\")\n",
    "    )"
   ]
  },
  {
   "cell_type": "code",
   "execution_count": 19,
   "id": "f5a49342-0968-4326-ae30-94180c09ee78",
   "metadata": {},
   "outputs": [
    {
     "name": "stdout",
     "output_type": "stream",
     "text": [
      "+--------------------+--------------------+-----------+\n",
      "|         purchase_id|             user_id|amount_paid|\n",
      "+--------------------+--------------------+-----------+\n",
      "|0015dca6-e825-49d...|1330243f-19da-410...|       8.07|\n",
      "|0027de64-9141-468...|833a53b1-7882-4ad...|      21.84|\n",
      "|005c1d09-82f4-4b0...|1ed21a96-93cd-413...|       0.99|\n",
      "|00623a00-ff6a-40a...|33e8b30d-7032-4cf...|       2.49|\n",
      "|00665a96-ef2b-4d5...|baad42cd-523b-4c8...|       4.14|\n",
      "|0078712e-ad26-497...|cd25d012-15ba-420...|       5.11|\n",
      "|009de783-d808-4e6...|3e9ebfd9-31a6-48d...|      11.62|\n",
      "|00aed027-7d56-4c1...|3acc1f03-5b14-46f...|      24.91|\n",
      "|00d6581f-399f-4e1...|5493f403-bbc8-449...|       1.91|\n",
      "|00e6a40c-c561-49d...|ab172e8c-452d-420...|       3.39|\n",
      "|00ee42b9-9103-41d...|7937ae45-d741-4da...|       3.35|\n",
      "|00efe752-c269-40e...|f031c94b-b66e-4d0...|       1.41|\n",
      "|011efb28-3380-488...|615e0436-9626-43d...|       3.94|\n",
      "|01203c0d-8073-4ca...|304e9bc4-a4cc-432...|      43.59|\n",
      "|01274da7-9e31-43c...|536c19f5-2b41-4e0...|      12.11|\n",
      "|012b760f-e97d-49d...|d2950189-3455-497...|       18.5|\n",
      "|01373c3a-75cb-41f...|37824150-0b14-483...|       6.37|\n",
      "|013cbc99-31e7-480...|c782650b-3046-478...|       0.57|\n",
      "|01668e73-fbbf-421...|d330c693-ecb9-44e...|      17.54|\n",
      "|0183513e-7348-43c...|0d88cc33-5758-41c...|        6.9|\n",
      "+--------------------+--------------------+-----------+\n",
      "only showing top 20 rows\n",
      "\n"
     ]
    }
   ],
   "source": [
    "purchases_cost.show()"
   ]
  },
  {
   "cell_type": "code",
   "execution_count": 20,
   "id": "a527a6db-0dd2-476f-8a83-961c3ff4acb7",
   "metadata": {},
   "outputs": [],
   "source": [
    "purchases = purchases_tmp \\\n",
    "    .join(purchases_cost, on=\"purchase_id\") \\\n",
    "    .drop(purchases_cost.user_id)"
   ]
  },
  {
   "cell_type": "code",
   "execution_count": 21,
   "id": "2be17e68-a026-4d6a-b844-2d43d9303af1",
   "metadata": {},
   "outputs": [
    {
     "name": "stdout",
     "output_type": "stream",
     "text": [
      "+--------------------+-------------------+--------------------+--------------------+-----------+\n",
      "|         purchase_id|         event_time|     purchased_items|             user_id|amount_paid|\n",
      "+--------------------+-------------------+--------------------+--------------------+-----------+\n",
      "|0015dca6-e825-49d...|2022-02-15 21:41:23|[dfcad75d-df4c-41...|1330243f-19da-410...|       8.07|\n",
      "|0027de64-9141-468...|2022-02-15 21:38:51|[5d2629ec-ff58-48...|833a53b1-7882-4ad...|      21.84|\n",
      "|005c1d09-82f4-4b0...|2022-02-16 12:27:07|[17eb311a-e0be-44...|1ed21a96-93cd-413...|       0.99|\n",
      "|00623a00-ff6a-40a...|2022-02-16 04:57:28|[1306934e-0290-40...|33e8b30d-7032-4cf...|       2.49|\n",
      "|00665a96-ef2b-4d5...|2022-02-15 22:01:25|[2b5d6816-368f-41...|baad42cd-523b-4c8...|       4.14|\n",
      "|0078712e-ad26-497...|2022-02-16 13:31:46|[12f9deac-3260-45...|cd25d012-15ba-420...|       5.11|\n",
      "|009de783-d808-4e6...|2022-02-15 23:30:33|[095834a7-3e9f-41...|3e9ebfd9-31a6-48d...|      11.62|\n",
      "|00aed027-7d56-4c1...|2022-02-15 22:43:19|[85cb64c3-1b22-49...|3acc1f03-5b14-46f...|      24.91|\n",
      "|00d6581f-399f-4e1...|2022-02-15 22:15:00|[b2a82789-1d19-4d...|5493f403-bbc8-449...|       1.91|\n",
      "|00e6a40c-c561-49d...|2022-02-16 10:12:32|[fa1ecc41-bfb0-4d...|ab172e8c-452d-420...|       3.39|\n",
      "|00ee42b9-9103-41d...|2022-02-16 12:26:38|[dcb1fb11-33c4-44...|7937ae45-d741-4da...|       3.35|\n",
      "|00efe752-c269-40e...|2022-02-15 20:42:05|[1a6456fb-3b3e-47...|f031c94b-b66e-4d0...|       1.41|\n",
      "|011efb28-3380-488...|2022-02-16 14:12:19|[4670e859-0b07-47...|615e0436-9626-43d...|       3.94|\n",
      "|01203c0d-8073-4ca...|2022-02-16 00:30:00|[a3019471-df28-44...|304e9bc4-a4cc-432...|      43.59|\n",
      "|01274da7-9e31-43c...|2022-02-15 21:18:06|[f1c8e40f-451d-40...|536c19f5-2b41-4e0...|      12.11|\n",
      "|012b760f-e97d-49d...|2022-02-15 21:48:19|[9b2eb9ac-652e-42...|d2950189-3455-497...|       18.5|\n",
      "|01373c3a-75cb-41f...|2022-02-15 23:25:28|[a5eab269-7ed2-41...|37824150-0b14-483...|       6.37|\n",
      "|013cbc99-31e7-480...|2022-02-16 10:44:49|[f87046ae-765a-4b...|c782650b-3046-478...|       0.57|\n",
      "|01668e73-fbbf-421...|2022-02-15 23:11:54|[7e743114-54b1-48...|d330c693-ecb9-44e...|      17.54|\n",
      "|0183513e-7348-43c...|2022-02-16 00:18:07|[1859192f-76cf-49...|0d88cc33-5758-41c...|        6.9|\n",
      "+--------------------+-------------------+--------------------+--------------------+-----------+\n",
      "only showing top 20 rows\n",
      "\n"
     ]
    }
   ],
   "source": [
    "purchases.show()"
   ]
  },
  {
   "cell_type": "markdown",
   "id": "1915a175-79e9-461d-bd90-713cf29b75fa",
   "metadata": {
    "tags": []
   },
   "source": [
    "## Aggregations"
   ]
  },
  {
   "cell_type": "markdown",
   "id": "9009dace-eb4a-40da-a743-a5dc5f89d0ab",
   "metadata": {
    "tags": []
   },
   "source": [
    "### Delete\n",
    "Return 500 \"worst\" items that should be deleted"
   ]
  },
  {
   "cell_type": "code",
   "execution_count": 22,
   "id": "1c25a825-70a3-43a1-934d-9a0a9201dbbb",
   "metadata": {},
   "outputs": [],
   "source": [
    "sold_items = purchases \\\n",
    "    .select(F.explode(\"purchased_items\").alias(\"product_id\")) \\\n",
    "    .groupBy(\"product_id\") \\\n",
    "    .count()"
   ]
  },
  {
   "cell_type": "code",
   "execution_count": 23,
   "id": "b770fee5-7629-44bf-9bd5-006a4fdd3ea4",
   "metadata": {},
   "outputs": [
    {
     "name": "stdout",
     "output_type": "stream",
     "text": [
      "+--------------------+-----+\n",
      "|          product_id|count|\n",
      "+--------------------+-----+\n",
      "|c5bd6ad3-ac60-4c0...|    2|\n",
      "|d44a56da-bb34-4d8...|    2|\n",
      "|7c849a15-c74d-4a6...|    3|\n",
      "|85696f4b-da15-42c...|    2|\n",
      "|72157635-b624-4ff...|    3|\n",
      "|d90c35fc-5e13-4aa...|    2|\n",
      "|80f2aef9-2c26-448...|    1|\n",
      "|f3b118bf-f82e-4be...|    3|\n",
      "|8aaaaa73-1a08-448...|    2|\n",
      "|ee3a788a-36f3-4db...|    3|\n",
      "|28306fc3-f8af-45a...|    3|\n",
      "|1375c117-be7a-401...|    2|\n",
      "|97ddf2a4-9763-4b0...|    1|\n",
      "|974e8213-0de9-4be...|    1|\n",
      "|dd0610ad-90e8-496...|    2|\n",
      "|be63a878-fdf2-4c0...|    4|\n",
      "|45a19dcc-f542-454...|    3|\n",
      "|edfd038a-d28f-45f...|    2|\n",
      "|5a8e07fd-d7de-45a...|    3|\n",
      "|047f7154-7260-495...|    3|\n",
      "+--------------------+-----+\n",
      "only showing top 20 rows\n",
      "\n"
     ]
    }
   ],
   "source": [
    "sold_items.show()"
   ]
  },
  {
   "cell_type": "code",
   "execution_count": 24,
   "id": "8723e085-e0fa-4d2f-aacf-ed7f18835729",
   "metadata": {},
   "outputs": [],
   "source": [
    "delete_items = items \\\n",
    "    .join(sold_items, items.id==sold_items.product_id, how=\"left\") \\\n",
    "    .orderBy(\"count\") \\\n",
    "    .limit(500) \\\n",
    "    .select(\"id\")"
   ]
  },
  {
   "cell_type": "code",
   "execution_count": 25,
   "id": "f244c890-b2f2-4028-adeb-8445c79a6c7d",
   "metadata": {},
   "outputs": [
    {
     "name": "stdout",
     "output_type": "stream",
     "text": [
      "+--------------------+\n",
      "|                  id|\n",
      "+--------------------+\n",
      "|cd8b23d3-2db3-4f2...|\n",
      "|d3ee0cf0-6fa7-4ac...|\n",
      "|694eeed6-e82f-4e6...|\n",
      "|361b7292-3da0-4b0...|\n",
      "|6a37119c-c1bb-4a4...|\n",
      "|c5d3dd9e-64f7-4df...|\n",
      "|13547d25-6fcc-4fb...|\n",
      "|5538e02e-d640-42f...|\n",
      "|6cec5cb3-cc76-45c...|\n",
      "|672ed299-3238-435...|\n",
      "|c3d720bf-d635-4f9...|\n",
      "|74a9ed95-bc0a-427...|\n",
      "|cb2c3489-0338-48f...|\n",
      "|040ed5dd-c74f-4e9...|\n",
      "|20e895d5-ccac-47d...|\n",
      "|4983ffe0-bf21-4bd...|\n",
      "|e04e2398-a3dd-44d...|\n",
      "|72ee81a2-6a8b-4b1...|\n",
      "|8d4c70cf-d128-4cc...|\n",
      "|85f79e2c-a74e-40f...|\n",
      "+--------------------+\n",
      "only showing top 20 rows\n",
      "\n"
     ]
    }
   ],
   "source": [
    "delete_items.show()"
   ]
  },
  {
   "cell_type": "markdown",
   "id": "7ada6979-4935-4402-bca1-87cc18b4c5f4",
   "metadata": {},
   "source": [
    "### Discount\n",
    "Return top 10% of users that should have a discount (a user is counted as top based on money spent)"
   ]
  },
  {
   "cell_type": "code",
   "execution_count": 26,
   "id": "c781ceb6-ebba-4a90-963d-ba1ce5692793",
   "metadata": {},
   "outputs": [
    {
     "data": {
      "text/plain": [
       "1000"
      ]
     },
     "execution_count": 26,
     "metadata": {},
     "output_type": "execute_result"
    }
   ],
   "source": [
    "n_users = purchases \\\n",
    "    .groupBy(\"user_id\") \\\n",
    "    .count() \\\n",
    "    .count()\n",
    "\n",
    "n_users"
   ]
  },
  {
   "cell_type": "code",
   "execution_count": 27,
   "id": "7dac0d4e-4966-4fc9-b116-58c59c110174",
   "metadata": {},
   "outputs": [
    {
     "data": {
      "text/plain": [
       "100"
      ]
     },
     "execution_count": 27,
     "metadata": {},
     "output_type": "execute_result"
    }
   ],
   "source": [
    "n_top_users = int(n_users * 0.1)\n",
    "\n",
    "n_top_users"
   ]
  },
  {
   "cell_type": "code",
   "execution_count": 28,
   "id": "a6ed7486-2fde-4df3-8653-8918475430ca",
   "metadata": {},
   "outputs": [],
   "source": [
    "top_users = purchases \\\n",
    "    .groupBy(\"user_id\") \\\n",
    "    .agg(F.sum(\"amount_paid\").alias(\"money_spent\")) \\\n",
    "    .orderBy(F.col(\"money_spent\").desc()) \\\n",
    "    .limit(n_top_users) \\\n",
    "    .select(\"user_id\")"
   ]
  },
  {
   "cell_type": "code",
   "execution_count": 29,
   "id": "f2e421a2-6a43-4317-aca0-3d0f5644112e",
   "metadata": {},
   "outputs": [
    {
     "name": "stdout",
     "output_type": "stream",
     "text": [
      "+--------------------+\n",
      "|             user_id|\n",
      "+--------------------+\n",
      "|22bcbed0-41ec-47a...|\n",
      "|a0cfa21b-dde0-486...|\n",
      "|c3db58ba-427d-49a...|\n",
      "|221c4529-bb6e-48e...|\n",
      "|5ef9dc9a-5330-4c3...|\n",
      "|7290914b-05cb-4de...|\n",
      "|d9441dcd-989b-4da...|\n",
      "|9652a53d-25f2-40a...|\n",
      "|292bdbb4-5963-470...|\n",
      "|d1564cb6-a3df-4d7...|\n",
      "|6341d982-b442-455...|\n",
      "|3ef52fdf-ca7c-4c4...|\n",
      "|6842deba-b35d-4d7...|\n",
      "|ddf3963f-e51f-41c...|\n",
      "|80b2f316-decf-488...|\n",
      "|43a7d1a3-a8b3-496...|\n",
      "|678c1c9e-7939-46d...|\n",
      "|6f72c1f0-408d-4d5...|\n",
      "|8b8614fb-217b-464...|\n",
      "|7da35886-1b17-466...|\n",
      "+--------------------+\n",
      "only showing top 20 rows\n",
      "\n"
     ]
    }
   ],
   "source": [
    "top_users.show()"
   ]
  },
  {
   "cell_type": "markdown",
   "id": "2f6c2ece-a8db-4adf-8b99-5d8d1a9e8eee",
   "metadata": {},
   "source": [
    "### Recommendation (Report)\n",
    "- Top 10 users by number of purchases\n",
    "- Top 10 users by money spent\n",
    "- Top 10 frequent items (The most frequent bought)\n",
    "- Top 10 valuable items (The biggest amount of money spent on them)"
   ]
  },
  {
   "cell_type": "code",
   "execution_count": 30,
   "id": "b49d84df-00e7-4f74-8657-50f85c0b5b9f",
   "metadata": {},
   "outputs": [
    {
     "name": "stdout",
     "output_type": "stream",
     "text": [
      "+--------------------+-----+\n",
      "|             user_id|count|\n",
      "+--------------------+-----+\n",
      "|41e1763e-288a-470...|   19|\n",
      "|caa164ed-4784-49d...|   19|\n",
      "|e339f2fe-7da3-44c...|   19|\n",
      "|29b45029-b90a-4a7...|   18|\n",
      "|0fb359a8-13a6-444...|   18|\n",
      "|855d1fc0-948c-460...|   17|\n",
      "|01fb7739-72f1-4b1...|   17|\n",
      "|234f892e-e483-46a...|   16|\n",
      "|d63a1178-4fe3-4df...|   16|\n",
      "|004f4b3b-c570-434...|   16|\n",
      "+--------------------+-----+\n",
      "\n"
     ]
    }
   ],
   "source": [
    "# Top 10 users by number of purchases\n",
    "\n",
    "top_10_users_by_purchases = purchases \\\n",
    "    .groupBy(\"user_id\") \\\n",
    "    .count() \\\n",
    "    .orderBy(F.col(\"count\").desc()) \\\n",
    "    .limit(10)\n",
    "\n",
    "top_10_users_by_purchases.show()"
   ]
  },
  {
   "cell_type": "code",
   "execution_count": 31,
   "id": "de1f33e9-0c87-4eab-91a7-07a48833ef1a",
   "metadata": {},
   "outputs": [
    {
     "name": "stdout",
     "output_type": "stream",
     "text": [
      "+--------------------+\n",
      "|             user_id|\n",
      "+--------------------+\n",
      "|22bcbed0-41ec-47a...|\n",
      "|a0cfa21b-dde0-486...|\n",
      "|c3db58ba-427d-49a...|\n",
      "|221c4529-bb6e-48e...|\n",
      "|5ef9dc9a-5330-4c3...|\n",
      "|7290914b-05cb-4de...|\n",
      "|d9441dcd-989b-4da...|\n",
      "|9652a53d-25f2-40a...|\n",
      "|292bdbb4-5963-470...|\n",
      "|d1564cb6-a3df-4d7...|\n",
      "+--------------------+\n",
      "\n"
     ]
    }
   ],
   "source": [
    "# Top 10 users by money spent\n",
    "\n",
    "top_10_users_by_money = purchases \\\n",
    "    .groupBy(\"user_id\") \\\n",
    "    .agg(F.sum(\"amount_paid\").alias(\"money_spent\")) \\\n",
    "    .orderBy(F.col(\"money_spent\").desc()) \\\n",
    "    .limit(10) \\\n",
    "    .select(\"user_id\")\n",
    "\n",
    "top_10_users_by_money.show()"
   ]
  },
  {
   "cell_type": "code",
   "execution_count": 32,
   "id": "fd2057f5-8af9-464f-be21-3210081b3450",
   "metadata": {},
   "outputs": [
    {
     "name": "stdout",
     "output_type": "stream",
     "text": [
      "+--------------------+\n",
      "|          product_id|\n",
      "+--------------------+\n",
      "|4dc196ad-c937-4ca...|\n",
      "|d3a34b45-b4ba-484...|\n",
      "|ad533934-3ad4-425...|\n",
      "|c4dc4070-0304-40f...|\n",
      "|a9087ac0-f367-48e...|\n",
      "|eb069b69-4582-4cf...|\n",
      "|07efa244-73e6-471...|\n",
      "|9d9fc35f-5a6f-4cf...|\n",
      "|5798fc03-578e-4b2...|\n",
      "|6b677752-c71c-4ef...|\n",
      "+--------------------+\n",
      "\n"
     ]
    }
   ],
   "source": [
    "# Top 10 frequent items (The most frequently bought)\n",
    "\n",
    "top_10_frequent_items = purchases \\\n",
    "    .select(F.explode(\"purchased_items\").alias(\"product_id\")) \\\n",
    "    .groupBy(\"product_id\") \\\n",
    "    .count() \\\n",
    "    .orderBy(F.col(\"count\").desc()) \\\n",
    "    .limit(10) \\\n",
    "    .select(\"product_id\")\n",
    "\n",
    "top_10_frequent_items.show()"
   ]
  },
  {
   "cell_type": "code",
   "execution_count": 33,
   "id": "ff6c817f-ad48-4603-b52a-fb86ba71c744",
   "metadata": {},
   "outputs": [
    {
     "name": "stdout",
     "output_type": "stream",
     "text": [
      "+--------------------+-----------------+\n",
      "|          product_id|total_money_spent|\n",
      "+--------------------+-----------------+\n",
      "|1a91bd3d-9b3b-468...|           296.16|\n",
      "|6aae9d38-a8ab-4fe...|            289.8|\n",
      "|f6264131-7da1-450...|           198.78|\n",
      "|ce7f618f-d045-427...|           192.45|\n",
      "|f9c9f33d-51ea-497...|           186.88|\n",
      "|e8be9918-38a0-4b6...|           161.68|\n",
      "|38c689bc-2e2e-4f0...|           158.58|\n",
      "|54cce3eb-c5d5-45a...|            157.6|\n",
      "|ade624b8-12da-4ce...|           156.84|\n",
      "|2a926d40-8090-4a4...|           154.16|\n",
      "+--------------------+-----------------+\n",
      "\n"
     ]
    }
   ],
   "source": [
    "# Top 10 valuable items (The biggest amount of money spent on them)\n",
    "# TODO: .isNotNull() temporary; check whether user_id has a discount \n",
    "\n",
    "top_10_valuable_items = purchases \\\n",
    "    .select(F.explode(\"purchased_items\").alias(\"product_id\"),\n",
    "            \"user_id\") \\\n",
    "    .join(items_prices, on=\"product_id\") \\\n",
    "    .groupBy(\"product_id\", \"user_id\") \\\n",
    "    .agg(\n",
    "        F.when(F.col(\"user_id\").isNotNull(), F.sum(\"price\")) \\\n",
    "        .otherwise(F.sum(\"discount_price\")) \\\n",
    "        .alias(\"money_spent\")\n",
    "    ) \\\n",
    "    .groupBy(\"product_id\") \\\n",
    "    .agg(\n",
    "        F.round(F.sum(\"money_spent\"), 2) \\\n",
    "        .alias(\"total_money_spent\")) \\\n",
    "    .orderBy(F.col(\"total_money_spent\").desc()) \\\n",
    "    .limit(10)\n",
    "\n",
    "top_10_valuable_items.show()"
   ]
  }
 ],
 "metadata": {
  "kernelspec": {
   "display_name": "Python 3 (ipykernel)",
   "language": "python",
   "name": "python3"
  },
  "language_info": {
   "codemirror_mode": {
    "name": "ipython",
    "version": 3
   },
   "file_extension": ".py",
   "mimetype": "text/x-python",
   "name": "python",
   "nbconvert_exporter": "python",
   "pygments_lexer": "ipython3",
   "version": "3.9.10"
  }
 },
 "nbformat": 4,
 "nbformat_minor": 5
}
